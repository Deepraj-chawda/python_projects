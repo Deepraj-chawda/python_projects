{
 "cells": [
  {
   "cell_type": "markdown",
   "metadata": {},
   "source": [
    "# API"
   ]
  },
  {
   "cell_type": "code",
   "execution_count": 6,
   "metadata": {},
   "outputs": [],
   "source": [
    "import requests\n",
    "from pprint import pprint"
   ]
  },
  {
   "cell_type": "code",
   "execution_count": 7,
   "metadata": {},
   "outputs": [
    {
     "data": {
      "text/plain": [
       "'2.24.0'"
      ]
     },
     "execution_count": 7,
     "metadata": {},
     "output_type": "execute_result"
    }
   ],
   "source": [
    "requests.__version__"
   ]
  },
  {
   "cell_type": "code",
   "execution_count": 8,
   "metadata": {},
   "outputs": [],
   "source": [
    "def get_weather(city):\n",
    "    api_url = \"https://api.openweathermap.org/data/2.5/weather?\"\n",
    "    api_key = '2ce762a5420d9e2ebadb150e360a3d81'\n",
    "    param = {\n",
    "        'q':city,\n",
    "        'appid':api_key,\n",
    "         'units': 'metric'\n",
    "        }\n",
    "    \n",
    "    resp = requests.get(api_url,params=param)\n",
    "    \n",
    "    if resp.status_code == 200:\n",
    "        data = resp.json()\n",
    "        pprint(data)\n",
    "    else:\n",
    "        print(f'!!Error!!!! code status : {resp.status_code} and reason : {resp.reason}')"
   ]
  },
  {
   "cell_type": "code",
   "execution_count": 9,
   "metadata": {},
   "outputs": [
    {
     "name": "stdout",
     "output_type": "stream",
     "text": [
      "{'base': 'stations',\n",
      " 'clouds': {'all': 49},\n",
      " 'cod': 200,\n",
      " 'coord': {'lat': 22.7179, 'lon': 75.8333},\n",
      " 'dt': 1626198707,\n",
      " 'id': 1269743,\n",
      " 'main': {'feels_like': 31.52,\n",
      "          'grnd_level': 942,\n",
      "          'humidity': 66,\n",
      "          'pressure': 1002,\n",
      "          'sea_level': 1002,\n",
      "          'temp': 28.75,\n",
      "          'temp_max': 28.75,\n",
      "          'temp_min': 28.75},\n",
      " 'name': 'Indore',\n",
      " 'sys': {'country': 'IN', 'sunrise': 1626135578, 'sunset': 1626183885},\n",
      " 'timezone': 19800,\n",
      " 'visibility': 10000,\n",
      " 'weather': [{'description': 'scattered clouds',\n",
      "              'icon': '03n',\n",
      "              'id': 802,\n",
      "              'main': 'Clouds'}],\n",
      " 'wind': {'deg': 171, 'gust': 4.54, 'speed': 2.41}}\n"
     ]
    }
   ],
   "source": [
    "get_weather('indore')"
   ]
  },
  {
   "cell_type": "code",
   "execution_count": 10,
   "metadata": {},
   "outputs": [
    {
     "name": "stdout",
     "output_type": "stream",
     "text": [
      "{'base': 'stations',\n",
      " 'clouds': {'all': 50},\n",
      " 'cod': 200,\n",
      " 'coord': {'lat': 22.9667, 'lon': 76.0667},\n",
      " 'dt': 1626198873,\n",
      " 'id': 1273066,\n",
      " 'main': {'feels_like': 31.91,\n",
      "          'grnd_level': 942,\n",
      "          'humidity': 60,\n",
      "          'pressure': 1001,\n",
      "          'sea_level': 1001,\n",
      "          'temp': 29.5,\n",
      "          'temp_max': 29.5,\n",
      "          'temp_min': 29.5},\n",
      " 'name': 'Dewas',\n",
      " 'sys': {'country': 'IN', 'sunrise': 1626135493, 'sunset': 1626183858},\n",
      " 'timezone': 19800,\n",
      " 'visibility': 10000,\n",
      " 'weather': [{'description': 'scattered clouds',\n",
      "              'icon': '03n',\n",
      "              'id': 802,\n",
      "              'main': 'Clouds'}],\n",
      " 'wind': {'deg': 168, 'gust': 5.43, 'speed': 2.95}}\n"
     ]
    }
   ],
   "source": [
    "get_weather('Dewas')"
   ]
  },
  {
   "cell_type": "code",
   "execution_count": 11,
   "metadata": {},
   "outputs": [],
   "source": [
    "def city_weather(city):\n",
    "    api_url = \"https://api.openweathermap.org/data/2.5/weather?\"\n",
    "    api_key = '2ce762a5420d9e2ebadb150e360a3d81'\n",
    "    param = {\n",
    "        'q':city,\n",
    "        'appid':api_key,\n",
    "         'units': 'metric'\n",
    "        }\n",
    "    \n",
    "    resp = requests.get(api_url,params=param)\n",
    "    \n",
    "    if resp.status_code == 200:\n",
    "        data = resp.json()\n",
    "        print('Name : ',data['name'])\n",
    "        print('temperature : ',data['main']['temp'])\n",
    "        print('Max temperature : ',data['main']['temp_max'])\n",
    "        print('Min temperature : ',data['main']['temp_min'])\n",
    "    else:\n",
    "        print(f'!!Error!!!! code status : {resp.status_code} and reason : {resp.reason}')"
   ]
  },
  {
   "cell_type": "code",
   "execution_count": 12,
   "metadata": {},
   "outputs": [
    {
     "name": "stdout",
     "output_type": "stream",
     "text": [
      "Name :  Indore\n",
      "temperature :  28.75\n",
      "Max temperature :  28.75\n",
      "Min temperature :  28.75\n"
     ]
    }
   ],
   "source": [
    "city_weather('Indore')"
   ]
  },
  {
   "cell_type": "code",
   "execution_count": 13,
   "metadata": {},
   "outputs": [
    {
     "name": "stdout",
     "output_type": "stream",
     "text": [
      "Name :  Ujjain\n",
      "temperature :  30.86\n",
      "Max temperature :  30.86\n",
      "Min temperature :  30.86\n"
     ]
    }
   ],
   "source": [
    "city_weather('ujjain')"
   ]
  },
  {
   "cell_type": "code",
   "execution_count": 14,
   "metadata": {},
   "outputs": [
    {
     "name": "stdout",
     "output_type": "stream",
     "text": [
      "Name :  Dewas\n",
      "temperature :  29.5\n",
      "Max temperature :  29.5\n",
      "Min temperature :  29.5\n"
     ]
    }
   ],
   "source": [
    "city_weather('dewas')"
   ]
  },
  {
   "cell_type": "markdown",
   "metadata": {},
   "source": [
    "# Foursquare"
   ]
  },
  {
   "cell_type": "code",
   "execution_count": 15,
   "metadata": {},
   "outputs": [],
   "source": [
    "def get_place(query,limit=2):\n",
    "    url = 'https://api.foursquare.com/v2/venues/explore'\n",
    "    CLIENT_ID = '34ZFN2TFNQHCKF4CJWOT3AAQSWNLAAYJZG3TBEMTUCACIS0B'\n",
    "    CLIENT_SECRET = '2KUIUNF2WI3PNDJUY14LRIALN2PAONCT1KON5KAYTSGMJEL4'\n",
    "    params = dict(\n",
    "    client_id = CLIENT_ID,\n",
    "    client_secret = CLIENT_SECRET,\n",
    "    v = '20180323',\n",
    "    ll = '22.7196,75.8577',\n",
    "    query = query,\n",
    "    limit = limit\n",
    "    )\n",
    "    resp = requests.get(url=url, params=params)\n",
    "    if resp.status_code == 200:\n",
    "        data = resp.json()\n",
    "        for item in data['response']['groups'][0]['items']:\n",
    "            print(\"Name : \",item['venue']['name'])\n",
    "            print(\"Address : \",\" ,\".join(item['venue']['location']['formattedAddress']))\n",
    "            print('___'*30)\n",
    "    else:\n",
    "        print(f'!!Error!!!! code status : {resp.status_code} and reason : {resp.reason}')\n",
    "    "
   ]
  },
  {
   "cell_type": "code",
   "execution_count": 16,
   "metadata": {},
   "outputs": [
    {
     "name": "stdout",
     "output_type": "stream",
     "text": [
      "Name :  Lotus Hut Cafe\n",
      "Address :  M. G. Road ,Indore 452001 ,Madhya Pradesh ,India\n",
      "__________________________________________________________________________________________\n",
      "Name :  Ccd,apollo Square\n",
      "Address :  India\n",
      "__________________________________________________________________________________________\n",
      "Name :  Cafe Palette\n",
      "Address :  22/2 Manormaganj, Shri Jaora Tower, Near NRK Villa (Off A. B. Road) ,Indore 452 001 ,Madhya Pradesh ,India\n",
      "__________________________________________________________________________________________\n",
      "Name :  Barista\n",
      "Address :  Treasure Island, M G Road ,Indore ,Madhya Pradesh ,India\n",
      "__________________________________________________________________________________________\n",
      "Name :  Mr Beans - The Coffee Lounge\n",
      "Address :  10 M.G. Road (South Tukoganj) ,Indore 452001 ,Madhya Pradesh ,India\n",
      "__________________________________________________________________________________________\n"
     ]
    }
   ],
   "source": [
    "get_place('coffee',5)"
   ]
  },
  {
   "cell_type": "code",
   "execution_count": 17,
   "metadata": {},
   "outputs": [
    {
     "name": "stdout",
     "output_type": "stream",
     "text": [
      "Name :  cafe coffee day\n",
      "Address :  BCM heights (Opposite Bombay Hospital) ,Indore ,Madhya Pradesh ,India\n",
      "__________________________________________________________________________________________\n",
      "Name :  Chaibar\n",
      "Address :  India\n",
      "__________________________________________________________________________________________\n",
      "Name :  Bake well\n",
      "Address :  Indore ,Madhya Pradesh ,India\n",
      "__________________________________________________________________________________________\n",
      "Name :  Café Terazza\n",
      "Address :  10th Floor, Airen Heights (opp. C21 Mall, A. B. Road) ,Indore 452 010 ,Madhya Pradesh ,India\n",
      "__________________________________________________________________________________________\n",
      "Name :  Y Not Chai\n",
      "Address :  India\n",
      "__________________________________________________________________________________________\n",
      "Name :  IT Park, Pintoo's Chai Stall\n",
      "Address :  India\n",
      "__________________________________________________________________________________________\n",
      "Name :  The Tea Factory\n",
      "Address :  Shekhar Planet (Behind Reliance Fresh Bombay Hospital Road) ,Indore 452019 ,Madhya Pradesh ,India\n",
      "__________________________________________________________________________________________\n"
     ]
    }
   ],
   "source": [
    "get_place('tea',10)"
   ]
  },
  {
   "cell_type": "code",
   "execution_count": 18,
   "metadata": {},
   "outputs": [
    {
     "name": "stdout",
     "output_type": "stream",
     "text": [
      "Name :  Joshi Dahibada\n",
      "Address :  Bada Sarafa ,Indore ,Madhya Pradesh ,India\n",
      "__________________________________________________________________________________________\n",
      "Name :  Bablu Sandwich\n",
      "Address :  Prem Nagar ,Indore ,Madhya Pradesh ,India\n",
      "__________________________________________________________________________________________\n",
      "Name :  McDonald's\n",
      "Address :  M.G. Road (M.G.Road) ,Indore 452001 ,Madhya Pradesh ,India\n",
      "__________________________________________________________________________________________\n",
      "Name :  Sarovar Portico\n",
      "Address :  Treasure Island 11, South Tukoganj M.G.Road ,Indore ,Madhya Pradesh ,India\n",
      "__________________________________________________________________________________________\n",
      "Name :  Mr Beans\n",
      "Address :  India\n",
      "__________________________________________________________________________________________\n",
      "Name :  Subway\n",
      "Address :  Atrium, Malhar Mega Mall, (A.B. Road) ,Indore 452001 ,Madhya Pradesh ,India\n",
      "__________________________________________________________________________________________\n",
      "Name :  Chopstick City\n",
      "Address :  Hotel Sayaji (Vijay Nagar) ,Indore ,Madhya Pradesh ,India\n",
      "__________________________________________________________________________________________\n",
      "Name :  Mediterra\n",
      "Address :  Roof-top, Hotel Sayaji (Vijay Nagar) ,Indore ,Madhya Pradesh ,India\n",
      "__________________________________________________________________________________________\n",
      "Name :  Teas N More\n",
      "Address :  India\n",
      "__________________________________________________________________________________________\n",
      "Name :  Celebrity - Shree Maya\n",
      "Address :  A.B. Road (A. B. Road, Press Complex) ,Indore ,Madhya Pradesh ,India\n",
      "__________________________________________________________________________________________\n",
      "Name :  Shreemaya Celebration\n",
      "Address :  Rajendra Nagar, A.B. Road (A.B. Road) ,Indore 452001 ,Madhya Pradesh ,India\n",
      "__________________________________________________________________________________________\n",
      "Name :  Ccd,apollo Square\n",
      "Address :  India\n",
      "__________________________________________________________________________________________\n",
      "Name :  Cafe Palette\n",
      "Address :  22/2 Manormaganj, Shri Jaora Tower, Near NRK Villa (Off A. B. Road) ,Indore 452 001 ,Madhya Pradesh ,India\n",
      "__________________________________________________________________________________________\n",
      "Name :  Celebrations Shreemaya\n",
      "Address :  RNT Marg ,Indore ,Madhya Pradesh ,India\n",
      "__________________________________________________________________________________________\n",
      "Name :  The Roof\n",
      "Address :  Hotel Kanchan (M. G. Road) ,Indore 452001 ,Madhya Pradesh ,India\n",
      "__________________________________________________________________________________________\n",
      "Name :  Slice Square & Ice Balls\n",
      "Address :  Pushpratna Solitaire Bldg. (4/5, New Palasia) ,Indore ,Madhya Pradesh ,India\n",
      "__________________________________________________________________________________________\n",
      "Name :  Apna Sweets\n",
      "Address :  AB Road (Near Mangal City) ,Indore 452002 ,Madhya Pradesh ,India\n",
      "__________________________________________________________________________________________\n",
      "Name :  cafe coffee day\n",
      "Address :  BCM heights (Opposite Bombay Hospital) ,Indore ,Madhya Pradesh ,India\n",
      "__________________________________________________________________________________________\n",
      "Name :  Domino's Pizza\n",
      "Address :  Ground Floor, Patni Tower (Sudama Nagar Main Road, Futi Kothi Circle) ,Indore 452002 ,Madhya Pradesh ,India\n",
      "__________________________________________________________________________________________\n",
      "Name :  Pizza Hut\n",
      "Address :  Anchor No 1, 2nd Flr, Malhar Mega Mall, AB Rd (Vijay Nagar) ,Indore 452010 ,Madhya Pradesh ,India\n",
      "__________________________________________________________________________________________\n"
     ]
    }
   ],
   "source": [
    "get_place('food',20)"
   ]
  },
  {
   "cell_type": "code",
   "execution_count": 19,
   "metadata": {},
   "outputs": [
    {
     "name": "stdout",
     "output_type": "stream",
     "text": [
      "Name :  Hansa Heritage\n",
      "Address :  Kalidas Marg (Kila Road) ,Maheshwar 451224 ,Madhya Pradesh ,India\n",
      "__________________________________________________________________________________________\n"
     ]
    }
   ],
   "source": [
    "get_place(\"heritage\",20)"
   ]
  },
  {
   "cell_type": "code",
   "execution_count": 20,
   "metadata": {},
   "outputs": [
    {
     "name": "stdout",
     "output_type": "stream",
     "text": [
      "Name :  Khajrana Ganesh Temple\n",
      "Address :  khajrana (ring road) ,Indore ,Madhya Pradesh ,India\n",
      "__________________________________________________________________________________________\n",
      "Name :  Kanch Mandir\n",
      "Address :  Hukumchand Marg (Itwaria Bazaar) ,Indore ,Madhya Pradesh ,India\n",
      "__________________________________________________________________________________________\n",
      "Name :  Geeta Bhawan\n",
      "Address :  Manorama ganj (Kailash Park) ,Indore 452001 ,Madhya Pradesh ,India\n",
      "__________________________________________________________________________________________\n",
      "Name :  Ranjeet Hanuman mandir\n",
      "Address :  India\n",
      "__________________________________________________________________________________________\n",
      "Name :  Annapurna Temple\n",
      "Address :  Annapurna ,Indore ,Madhya Pradesh ,India\n",
      "__________________________________________________________________________________________\n",
      "Name :  Bijasan Mata Temple\n",
      "Address :  Bijasan Tekri (Hill) (Near Indore Airport) ,Indore ,Madhya Pradesh ,India\n",
      "__________________________________________________________________________________________\n"
     ]
    }
   ],
   "source": [
    "get_place('temple',20)"
   ]
  },
  {
   "cell_type": "code",
   "execution_count": null,
   "metadata": {},
   "outputs": [],
   "source": []
  }
 ],
 "metadata": {
  "kernelspec": {
   "display_name": "Python 3",
   "language": "python",
   "name": "python3"
  },
  "language_info": {
   "codemirror_mode": {
    "name": "ipython",
    "version": 3
   },
   "file_extension": ".py",
   "mimetype": "text/x-python",
   "name": "python",
   "nbconvert_exporter": "python",
   "pygments_lexer": "ipython3",
   "version": "3.8.5"
  }
 },
 "nbformat": 4,
 "nbformat_minor": 4
}
