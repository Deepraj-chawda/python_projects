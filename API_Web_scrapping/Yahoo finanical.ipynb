{
 "cells": [
  {
   "cell_type": "code",
   "execution_count": 1,
   "metadata": {},
   "outputs": [],
   "source": [
    "'''\n",
    "__author__ = \"Deepraj chawda\"\n",
    "__version__ = \"Python 3.8.5\"\n",
    "'''\n",
    "import requests\n",
    "import bs4\n",
    "import pandas as pd"
   ]
  },
  {
   "cell_type": "code",
   "execution_count": 2,
   "metadata": {},
   "outputs": [],
   "source": [
    "response = requests.get('https://in.finance.yahoo.com/most-active?offset=0&count=50')\n",
    "soup = bs4.BeautifulSoup(response.content,'html.parser')"
   ]
  },
  {
   "cell_type": "code",
   "execution_count": 25,
   "metadata": {},
   "outputs": [],
   "source": [
    "stocks = {\n",
    "    'Name': [],\n",
    "    'Price' : [],\n",
    "    'Change' : [],\n",
    "    '%_Change' : [],\n",
    "    'Volume': [],\n",
    "    'Aug_vol': [],\n",
    "    'PE_ratio':[],\n",
    "    'Market_cap': []\n",
    "}"
   ]
  },
  {
   "cell_type": "code",
   "execution_count": 27,
   "metadata": {},
   "outputs": [],
   "source": [
    "for tr in trs:\n",
    "    stocks['Name'].append(tr.find('td',attrs={'class':'Va(m) Ta(start) Px(10px) Fz(s)'}).text.strip())\n",
    "    \n",
    "    prices = tr.find_all('td',attrs={'class':'Va(m) Ta(end) Pstart(20px) Fw(600) Fz(s)'})\n",
    "    stocks['Price'].append(prices[0].text.strip())\n",
    "    stocks['Change'].append(prices[1].text.strip())\n",
    "    stocks['%_Change'].append(prices[2].text.strip())\n",
    "    \n",
    "    stocks['Market_cap'].append(tr.find('td',attrs={'class':'Va(m) Ta(end) Pstart(20px) Pend(10px) W(120px) Fz(s)'}).text.strip())\n",
    "    \n",
    "    volumes = tr.find_all('td',attrs={'class':'Va(m) Ta(end) Pstart(20px) Fz(s)'})\n",
    "    stocks['Volume'].append(volumes[0].text.strip())\n",
    "    stocks['Aug_vol'].append(volumes[1].text.strip())\n",
    "    stocks['PE_ratio'].append(volumes[2].text.strip())"
   ]
  },
  {
   "cell_type": "code",
   "execution_count": 29,
   "metadata": {},
   "outputs": [],
   "source": [
    "stocks = pd.DataFrame(stocks)"
   ]
  },
  {
   "cell_type": "code",
   "execution_count": 32,
   "metadata": {},
   "outputs": [],
   "source": [
    "stocks.to_csv('yahoo_finance.csv')"
   ]
  },
  {
   "cell_type": "code",
   "execution_count": null,
   "metadata": {},
   "outputs": [],
   "source": []
  }
 ],
 "metadata": {
  "kernelspec": {
   "display_name": "Python 3",
   "language": "python",
   "name": "python3"
  },
  "language_info": {
   "codemirror_mode": {
    "name": "ipython",
    "version": 3
   },
   "file_extension": ".py",
   "mimetype": "text/x-python",
   "name": "python",
   "nbconvert_exporter": "python",
   "pygments_lexer": "ipython3",
   "version": "3.8.5"
  }
 },
 "nbformat": 4,
 "nbformat_minor": 5
}
